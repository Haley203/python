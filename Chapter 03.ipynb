{
 "cells": [
  {
   "cell_type": "markdown",
   "metadata": {},
   "source": [
    "#  《python编程从入门到实践》"
   ]
  },
  {
   "cell_type": "markdown",
   "metadata": {},
   "source": [
    "## 第三章"
   ]
  },
  {
   "cell_type": "markdown",
   "metadata": {},
   "source": [
    "### 列表"
   ]
  },
  {
   "cell_type": "code",
   "execution_count": null,
   "metadata": {},
   "outputs": [],
   "source": [
    "#里面可以存任何东西，其中元素间没什么关系，[]表示，都好隔开\n",
    "bicyles = [12, 'cannondale', 'redline', 'specialized']\n",
    "print(bicyles)"
   ]
  },
  {
   "cell_type": "code",
   "execution_count": null,
   "metadata": {},
   "outputs": [],
   "source": [
    "bicyles = [12, 'cannondale', 'redline', 'specialized']\n",
    "print(bicyles[1])\n",
    "print(bicyles[1].title()) #首字母大写\n",
    "print(bicyles[1].upper()) #全部大写\n",
    "print(bicyles[-1]) #-1为倒数第一个"
   ]
  },
  {
   "cell_type": "code",
   "execution_count": null,
   "metadata": {},
   "outputs": [],
   "source": [
    "bicycles = ['tiek', 'cannondale', 'redline', 'specialized']\n",
    "message = \"My first bicycle was a \" + bicycles[0].title() + \".\"\n",
    "print(message)"
   ]
  },
  {
   "cell_type": "code",
   "execution_count": null,
   "metadata": {},
   "outputs": [],
   "source": [
    "#练习3-1\n",
    "names = ['jack','marick','jeon','haley','mariy','jey','anoy']\n",
    "print(names[0])\n",
    "print(names[1])\n",
    "print(names[2])\n",
    "print(names[3])\n",
    "print(names[4])\n",
    "print(names[-2])\n",
    "print(names[-1])"
   ]
  },
  {
   "cell_type": "code",
   "execution_count": null,
   "metadata": {},
   "outputs": [],
   "source": [
    "#练习3-2\n",
    "print(names[0].title() + \", how are you?\")\n",
    "print(names[1].title() + \", how are you?\")\n",
    "print(names[2].title() + \", how are you?\")\n",
    "print(names[3].title() + \", how are you?\")\n",
    "print(names[4].title() + \", how are you?\")\n",
    "print(names[-2].title() + \", how are you?\")\n",
    "print(names[-1].title() + \", how are you?\")"
   ]
  },
  {
   "cell_type": "code",
   "execution_count": null,
   "metadata": {
    "scrolled": true
   },
   "outputs": [],
   "source": [
    "#练习3-3\n",
    "traffic = ['Motorcycle','automobile','Bicycle','metro','aircraft','rocket','Spacecraft']\n",
    "print(\"I would like to own a \" + traffic[0].title())\n",
    "print(\"I would like to own a \" + traffic[1].title())\n",
    "print(\"I would like to own a \" + traffic[2].title())\n",
    "print(\"I would like to own a \" + traffic[3].title())\n",
    "print(\"I would like to own a \" + traffic[4].title())\n",
    "print(\"I would like to own a \" + traffic[5].title())\n",
    "print(\"I would like to own a \" + traffic[6].title())"
   ]
  },
  {
   "cell_type": "markdown",
   "metadata": {},
   "source": [
    "#### 列表修改、添加、删除"
   ]
  },
  {
   "cell_type": "code",
   "execution_count": null,
   "metadata": {},
   "outputs": [],
   "source": [
    "#修改\n",
    "motorcycles = ['honda','yamaha','suzuki']\n",
    "print(motorcycles)\n",
    "\n",
    "motorcycles[0] = 'ducati'\n",
    "print(motorcycles)"
   ]
  },
  {
   "cell_type": "code",
   "execution_count": null,
   "metadata": {},
   "outputs": [],
   "source": [
    "#添加\n",
    "motorcycles = ['honda','yamaha','suzuki']\n",
    "print(motorcycles)\n",
    "\n",
    "motorcycles.append('ducati')\n",
    "print(motorcycles)\n"
   ]
  },
  {
   "cell_type": "code",
   "execution_count": null,
   "metadata": {},
   "outputs": [],
   "source": [
    "#添加——空列表\n",
    "motorcycles = []\n",
    "motorcycles.append('honda')\n",
    "motorcycles.append('yamaha')\n",
    "motorcycles.append('suzuki')\n",
    "print(motorcycles)"
   ]
  },
  {
   "cell_type": "code",
   "execution_count": null,
   "metadata": {},
   "outputs": [],
   "source": [
    "# 插入\n",
    "motorcycles = ['honda','yamaha','suzuki']\n",
    "motorcycles.insert(0,'ducati')\n",
    "print(motorcycles)"
   ]
  },
  {
   "cell_type": "code",
   "execution_count": null,
   "metadata": {},
   "outputs": [],
   "source": [
    "# 删除——del :从列表中删除元素，且不再使用\n",
    "motorcycles = ['honda','yamaha','suzuki']\n",
    "print(motorcycles)\n",
    "\n",
    "del motorcycles[1]\n",
    "print(motorcycles)"
   ]
  },
  {
   "cell_type": "code",
   "execution_count": null,
   "metadata": {},
   "outputs": [],
   "source": [
    "# 删除/弹出——pop():从列表中删除元素，可使用被删除元素——最后一个\n",
    "motorcycles = ['honda','yamaha','suzuki']\n",
    "print(motorcycles)\n",
    "\n",
    "popped_motorcycle = motorcycles.pop() #删除的元素可以保存\n",
    "print(motorcycles)\n",
    "print(popped_motorcycle)"
   ]
  },
  {
   "cell_type": "code",
   "execution_count": null,
   "metadata": {},
   "outputs": [],
   "source": [
    "# 删除/弹出——pop():从列表中删除元素，要使用删除元素——指定某个\n",
    "motorcycles = ['honda','yamaha','suzuki']\n",
    "\n",
    "first_owned = motorcycles.pop(0)\n",
    "print(\"The first motorcycle Iowned was a \" + first_owned.title() + \".\")\n"
   ]
  },
  {
   "cell_type": "code",
   "execution_count": null,
   "metadata": {},
   "outputs": [],
   "source": [
    "# 删除——根据值删除\n",
    "motorcycles = ['honda','yamaha','suzuki','ducati']\n",
    "print(motorcycles)\n",
    "\n",
    "motorcycles.remove('ducati')\n",
    "print(motorcycles)"
   ]
  },
  {
   "cell_type": "code",
   "execution_count": null,
   "metadata": {},
   "outputs": [],
   "source": [
    "motorcycles = ['honda','yamaha','suzuki','ducati']\n",
    "print(motorcycles)\n",
    "\n",
    "too_expensive = 'ducati'\n",
    "motorcycles.remove(too_expensive)\n",
    "print(motorcycles)\n",
    "print(\"\\nA \" + too_expensive.title() + \" is too expensive for me.\")"
   ]
  },
  {
   "cell_type": "code",
   "execution_count": null,
   "metadata": {},
   "outputs": [],
   "source": [
    "# 练习3-4\n",
    "name = ['Einstein','Newton','Plato']\n",
    "print(name[0].title() + \", Can you have dinner with me?\")\n",
    "print(name[1].title() + \", Can you have dinner with me?\")\n",
    "print(name[2].title() + \", Can you have dinner with me?\")"
   ]
  },
  {
   "cell_type": "code",
   "execution_count": null,
   "metadata": {},
   "outputs": [],
   "source": [
    "# 练习3-5\n",
    "name = ['Einstein','Newton','Plato']\n",
    "print(name[0].title() + \", Can you have dinner with me?\")\n",
    "print(name[1].title() + \", Can you have dinner with me?\")\n",
    "print(name[2].title() + \", Can you have dinner with me?\")\n",
    "\n",
    "print(\"Plato cannot come for dinner.\")\n",
    "name[2] = \"Jay Chou\"\n",
    "print(name[0].title() + \", Can you have dinner with me?\")\n",
    "print(name[1].title() + \", Can you have dinner with me?\")\n",
    "print(name[2].title() + \", Can you have dinner with me?\")"
   ]
  },
  {
   "cell_type": "code",
   "execution_count": null,
   "metadata": {},
   "outputs": [],
   "source": [
    "# 练习3-6\n",
    "name = ['Einstein','Newton','Plato']\n",
    "print(name[0].title() + \", Can you have dinner with me?\")\n",
    "print(name[1].title() + \", Can you have dinner with me?\")\n",
    "print(name[2].title() + \", Can you have dinner with me?\")\n",
    "\n",
    "print(\"Plato cannot come for dinner.\")\n",
    "name[2] = \"Jay Chou\"\n",
    "print(name[0].title() + \", Can you have dinner with me?\")\n",
    "print(name[1].title() + \", Can you have dinner with me?\")\n",
    "print(name[2].title() + \", Can you have dinner with me?\")\n",
    "\n",
    "print(\"I found a bigger table.\")\n",
    "name.insert(0,'Turing')\n",
    "name.insert(2,'Putin')\n",
    "name.append('Obama')\n",
    "print(name)\n",
    "print(name[0].title() + \", Can you have dinner with me?\")\n",
    "print(name[1].title() + \", Can you have dinner with me?\")\n",
    "print(name[2].title() + \", Can you have dinner with me?\")\n",
    "print(name[3].title() + \", Can you have dinner with me?\")\n",
    "print(name[4].title() + \", Can you have dinner with me\")\n",
    "print(name[5].title() + \", Can you have dinner with me?\")"
   ]
  },
  {
   "cell_type": "code",
   "execution_count": null,
   "metadata": {},
   "outputs": [],
   "source": [
    "# 练习3-7\n",
    "name = ['Einstein','Newton','Plato']\n",
    "print(name[0].title() + \", Can you have dinner with me?\")\n",
    "print(name[1].title() + \", Can you have dinner with me?\")\n",
    "print(name[2].title() + \", Can you have dinner with me?\")\n",
    "\n",
    "print(\"Plato cannot come for dinner.\")\n",
    "name[2] = \"Jay Chou\"\n",
    "print(name[0].title() + \", Can you have dinner with me?\")\n",
    "print(name[1].title() + \", Can you have dinner with me?\")\n",
    "print(name[2].title() + \", Can you have dinner with me?\")\n",
    "\n",
    "print(\"I found a bigger table.\")\n",
    "name.insert(0,'Turing')\n",
    "name.insert(2,'Putin')\n",
    "name.append('Obama')\n",
    "\n",
    "print(name[0].title() + \", Can you have dinner with me?\")\n",
    "print(name[1].title() + \", Can you have dinner with me?\")\n",
    "print(name[2].title() + \", Can you have dinner with me?\")\n",
    "print(name[3].title() + \", Can you have dinner with me?\")\n",
    "print(name[4].title() + \", Can you have dinner with me?\")\n",
    "print(name[5].title() + \", Can you have dinner with me?\")\n",
    "\n",
    "print('Sorry, I can only invite two people for dinner.')\n",
    "\n",
    "print(name)\n",
    "del_name = name.pop()\n",
    "print(del_name.title() + \", Sorry I can't have dinner with you.\")\n",
    "del_name = name.pop()\n",
    "print(del_name.title() + \", Sorry I can't have dinner with you.\")\n",
    "del_name = name.pop()\n",
    "print(del_name.title() + \", Sorry I can't have dinner with you.\")\n",
    "del_name = name.pop()\n",
    "print(del_name.title() + \", Sorry I can't have dinner with you.\")\n",
    "print(name)\n",
    "\n",
    "print(name[0] + ', I still want to invite you to dinner.')\n",
    "print(name[1] + ', I still want to invite you to dinner.')\n",
    "\n",
    "del name[0]\n",
    "del name[0]\n",
    "print(name)"
   ]
  },
  {
   "cell_type": "markdown",
   "metadata": {},
   "source": [
    "### 组织列表"
   ]
  },
  {
   "cell_type": "code",
   "execution_count": null,
   "metadata": {},
   "outputs": [],
   "source": [
    "# sort() 字母顺序——永久性排序\n",
    "cars = ['bmw','audi','toyota','subaru']\n",
    "cars.sort()\n",
    "print(cars)\n",
    "\n",
    "cars.sort(reverse=True)\n",
    "print(cars)"
   ]
  },
  {
   "cell_type": "code",
   "execution_count": null,
   "metadata": {
    "scrolled": false
   },
   "outputs": [],
   "source": [
    "# sorted() 临时排序\n",
    "cars = ['bmw','audi','toyota','subaru']\n",
    "print(\"Here is the original list:\")\n",
    "print(cars)\n",
    "\n",
    "print('Here is the sorted list:')\n",
    "print(sorted(cars))\n",
    "print(sorted(cars))\n",
    "\n",
    "\n",
    "print('Here is the original list again:')\n",
    "print(cars)"
   ]
  },
  {
   "cell_type": "code",
   "execution_count": null,
   "metadata": {},
   "outputs": [],
   "source": [
    "# cars.reverse() 倒着打印列表，永久改变\n",
    "cars = ['bmw','audi','toyota','subaru']\n",
    "print(cars)\n",
    "\n",
    "cars.reverse()\n",
    "print(cars)"
   ]
  },
  {
   "cell_type": "markdown",
   "metadata": {},
   "source": [
    "### 确定列表长度"
   ]
  },
  {
   "cell_type": "code",
   "execution_count": null,
   "metadata": {},
   "outputs": [],
   "source": [
    "# 确定列表的长度\n",
    "cars = ['bmw','audi','toyota','subaru']\n",
    "len(cars)"
   ]
  },
  {
   "cell_type": "code",
   "execution_count": null,
   "metadata": {
    "scrolled": true
   },
   "outputs": [],
   "source": [
    "# 练习3-8\n",
    "travel = ['Bali','Maldives','Paris','Australia','Egypt']\n",
    "\n",
    "print(travel)\n",
    "\n",
    "print(sorted(travel))\n",
    "\n",
    "print(travel)\n",
    "\n",
    "print(sorted(travel,reverse=True)) # sorted() 的反排序\n",
    "\n",
    "print(travel)\n",
    "\n",
    "travel.reverse()\n",
    "print(travel)\n",
    "\n",
    "travel.reverse()\n",
    "print(travel)\n",
    "\n",
    "travel.sort()\n",
    "print(travel)\n",
    "\n",
    "travel = ['Bali','Maldives','Paris','Australia','Egypt']\n",
    "travel.sort(reverse=True)\n",
    "print(travel)\n"
   ]
  },
  {
   "cell_type": "code",
   "execution_count": null,
   "metadata": {},
   "outputs": [],
   "source": [
    "# 练习3-9 \n",
    "# (练习3-4)\n",
    "name = ['Einstein','Newton','Plato']\n",
    "print(name[0].title() + \", Can you have dinner with me?\")\n",
    "print(name[1].title() + \", Can you have dinner with me?\")\n",
    "print(name[2].title() + \", Can you have dinner with me?\")\n",
    "len(name)"
   ]
  },
  {
   "cell_type": "code",
   "execution_count": null,
   "metadata": {},
   "outputs": [],
   "source": [
    "# 练习3-10\n",
    "my_love = [23, ]\n",
    "# 列表中处理方法\n",
    "# 修改=、添加append、插入insert、删除del、删除pop、指定值删除remove、按顺序永久排序sort、按顺序临时排序sorted、排序翻转reverse、列表长度len、\n"
   ]
  },
  {
   "cell_type": "code",
   "execution_count": null,
   "metadata": {},
   "outputs": [],
   "source": [
    "# 练习3-11\n",
    "name = ['haley','jack']\n",
    "print(name[0])\n",
    "print(name[-1])\n",
    "print(name[5])\n",
    "\n"
   ]
  },
  {
   "cell_type": "code",
   "execution_count": null,
   "metadata": {},
   "outputs": [],
   "source": []
  }
 ],
 "metadata": {
  "kernelspec": {
   "display_name": "Python 3",
   "language": "python",
   "name": "python3"
  },
  "language_info": {
   "codemirror_mode": {
    "name": "ipython",
    "version": 3
   },
   "file_extension": ".py",
   "mimetype": "text/x-python",
   "name": "python",
   "nbconvert_exporter": "python",
   "pygments_lexer": "ipython3",
   "version": "3.7.0"
  }
 },
 "nbformat": 4,
 "nbformat_minor": 2
}
