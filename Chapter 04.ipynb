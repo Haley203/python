{
 "cells": [
  {
   "cell_type": "markdown",
   "metadata": {},
   "source": [
    "#  《python编程从入门到实践》"
   ]
  },
  {
   "cell_type": "markdown",
   "metadata": {},
   "source": [
    "# 第四章"
   ]
  },
  {
   "cell_type": "markdown",
   "metadata": {},
   "source": [
    "## 操作列表"
   ]
  },
  {
   "cell_type": "markdown",
   "metadata": {},
   "source": [
    "### 遍历列表"
   ]
  },
  {
   "cell_type": "code",
   "execution_count": null,
   "metadata": {},
   "outputs": [],
   "source": [
    "magicians = ['alice','david','carolina']\n",
    "for magician in magicians: # 利用for循环遍历列表\n",
    "    print(magician)"
   ]
  },
  {
   "cell_type": "code",
   "execution_count": null,
   "metadata": {
    "scrolled": true
   },
   "outputs": [],
   "source": [
    "magicians = ['alice','david','carolina']\n",
    "for magician in magicians: # 利用for循环遍历列表,for之后要加冒号!!!\n",
    "    print(magician.title() + ',that was a great trick!') # 缩进四个字符\n",
    "    print(\"I can't wait to see your next trick, \" + magician.title() + \".\\n\")\n",
    "print(\"Thank you, everyone.That was a great magic show!\")"
   ]
  },
  {
   "cell_type": "code",
   "execution_count": null,
   "metadata": {},
   "outputs": [],
   "source": [
    "# 注意缩进：\n",
    "#没缩进：程序报错\n",
    "for magician in magicians:\n",
    "print(magician)"
   ]
  },
  {
   "cell_type": "code",
   "execution_count": null,
   "metadata": {},
   "outputs": [],
   "source": [
    "#没有全部缩进：逻辑错误\n",
    "for magician in magicians: # 利用for循环遍历列表,for之后要加冒号!!!\n",
    "    print(magician.title() + ',that was a great trick!') # 缩进四个字符\n",
    "print(\"I can't wait to see your next trick, \" + magician.title() + \".\\n\")"
   ]
  },
  {
   "cell_type": "code",
   "execution_count": null,
   "metadata": {},
   "outputs": [],
   "source": [
    "#缩进无需缩进代码：逻辑错误\n",
    "for magician in magicians: # 利用for循环遍历列表,for之后要加冒号!!!\n",
    "    print(magician.title() + ',that was a great trick!') # 缩进四个字符\n",
    "    print(\"I can't wait to see your next trick, \" + magician.title() + \".\\n\")\n",
    "    print(\"Thank you, everyone.That was a great magic show!\")"
   ]
  },
  {
   "cell_type": "code",
   "execution_count": null,
   "metadata": {},
   "outputs": [],
   "source": [
    "# 练习4-1\n",
    "pizzas = ['Camphor Duck Pizza','Assorted Pizza','Egg yolk shrimp pizza']\n",
    "for pizza in pizzas:\n",
    "    print(pizza)\n",
    "    print('I like ' + pizza + '.')\n",
    "print('\\nI really love pizza!')\n",
    "\n",
    "\n"
   ]
  },
  {
   "cell_type": "code",
   "execution_count": null,
   "metadata": {},
   "outputs": [],
   "source": [
    "# 练习4-2\n",
    "animals = ['dog','cat','tiger']\n",
    "for animal in animals:\n",
    "    print(animal)\n",
    "    print('A ' + animal +' would make a great pet.')\n",
    "print('All these animals are animals I like!')\n",
    "\n",
    "\n"
   ]
  },
  {
   "cell_type": "markdown",
   "metadata": {},
   "source": [
    "#### 数字列表"
   ]
  },
  {
   "cell_type": "code",
   "execution_count": null,
   "metadata": {
    "scrolled": true
   },
   "outputs": [],
   "source": [
    "for number in range(1,5): #range(1,5) 打印1到4\n",
    "    print(number)\n",
    "\n",
    "for number in range(1,6): # 打印1到5\n",
    "    print(number)\n",
    "\n",
    "for number in range(2,11,2): # 打印1到10的偶数，最后一个数字代表步长\n",
    "    print(number)"
   ]
  },
  {
   "cell_type": "code",
   "execution_count": null,
   "metadata": {},
   "outputs": [],
   "source": [
    "# list转换成数字列表\n",
    "number = list(range(1,6)) # list 将让个生成的书转换成列表\n",
    "print(number)"
   ]
  },
  {
   "cell_type": "code",
   "execution_count": null,
   "metadata": {},
   "outputs": [],
   "source": [
    "# 以列表输出1到10各个数字的平方\n",
    "numbers = []\n",
    "for number in range(1,11):\n",
    "    numbers.append(number**2)\n",
    "print(numbers)\n",
    "    "
   ]
  },
  {
   "cell_type": "code",
   "execution_count": null,
   "metadata": {},
   "outputs": [],
   "source": [
    "# 数字列表的最大值、最小值、总和\n",
    "digits = list(range(1,12163465,2))\n",
    "min(digits) # 最小值"
   ]
  },
  {
   "cell_type": "code",
   "execution_count": null,
   "metadata": {},
   "outputs": [],
   "source": [
    "max(digits) #最大值"
   ]
  },
  {
   "cell_type": "code",
   "execution_count": null,
   "metadata": {},
   "outputs": [],
   "source": [
    "sum(digits) #求和"
   ]
  },
  {
   "cell_type": "markdown",
   "metadata": {},
   "source": [
    "#####  列表解析生成列表"
   ]
  },
  {
   "cell_type": "code",
   "execution_count": null,
   "metadata": {},
   "outputs": [],
   "source": [
    "squares = [value**2 for value in range(1,11)] # 列表名 = [表达式  for循环限定范围]\n",
    "print(squares)"
   ]
  },
  {
   "cell_type": "code",
   "execution_count": null,
   "metadata": {},
   "outputs": [],
   "source": [
    "# 练习4-3\n",
    "for number in range(1,21):\n",
    "    print(number)"
   ]
  },
  {
   "cell_type": "code",
   "execution_count": null,
   "metadata": {},
   "outputs": [],
   "source": [
    "# 练习4-4\n",
    "numbers = list(range(1,1000001))\n",
    "for number in numbers:\n",
    "    print(number)\n",
    "    "
   ]
  },
  {
   "cell_type": "code",
   "execution_count": null,
   "metadata": {},
   "outputs": [],
   "source": [
    "# 练习4-5\n",
    "numbers = list(range(1,1000001))\n",
    "numbers[0] == min(numbers)"
   ]
  },
  {
   "cell_type": "code",
   "execution_count": null,
   "metadata": {},
   "outputs": [],
   "source": [
    "numbers[-1] == max(numbers)"
   ]
  },
  {
   "cell_type": "code",
   "execution_count": null,
   "metadata": {},
   "outputs": [],
   "source": [
    "sum(numbers)"
   ]
  },
  {
   "cell_type": "code",
   "execution_count": null,
   "metadata": {},
   "outputs": [],
   "source": [
    "# 练习4-6\n",
    "numbers = list(range(1,20,2))\n",
    "for number in numbers:\n",
    "    print(number)"
   ]
  },
  {
   "cell_type": "code",
   "execution_count": null,
   "metadata": {},
   "outputs": [],
   "source": [
    "# 练习4-7\n",
    "numbers = list(range(3,31,3))\n",
    "for number in numbers:\n",
    "    print(number)"
   ]
  },
  {
   "cell_type": "code",
   "execution_count": null,
   "metadata": {},
   "outputs": [],
   "source": [
    "# 练习4-8\n",
    "numbers = []\n",
    "for value in range(1,11):\n",
    "    numbers.append(value**3)\n",
    "for number in numbers:\n",
    "    print(number)\n",
    "\n",
    "# 使用列表解析\n",
    "numbers = [value**3 for value in range(1,11)]\n",
    "for number in numbers:\n",
    "    print(number)    \n",
    "    "
   ]
  },
  {
   "cell_type": "code",
   "execution_count": null,
   "metadata": {},
   "outputs": [],
   "source": [
    "# 练习4-9\n",
    "numbers = [value**3 for value in range(1,11)]\n",
    "print(numbers)"
   ]
  },
  {
   "cell_type": "markdown",
   "metadata": {},
   "source": [
    "#### 操作列表一部分"
   ]
  },
  {
   "cell_type": "code",
   "execution_count": null,
   "metadata": {},
   "outputs": [],
   "source": [
    "# 切片\n",
    "players = ['charles','martina','michael','florence','eli']\n",
    "print(players[0:3]) #第一到第三个：第一元素索引到最后一个元素索引加1\n",
    "print(players[1:4]) #第二到第四个\n",
    "print(players[:4]) #没指定从开头到第四个\n",
    "print(players[2:]) #没指定从第三个到最后\n",
    "print(players[-3:]) #最后三位，负数索引"
   ]
  },
  {
   "cell_type": "code",
   "execution_count": null,
   "metadata": {},
   "outputs": [],
   "source": [
    "# 遍历切片\n",
    "players = ['charles','martina','michael','florence','eli']\n",
    "print('Here are the first three players on my team:')\n",
    "for player in players[:3]: # 对切片内内容进行索引\n",
    "    print(player)"
   ]
  },
  {
   "cell_type": "code",
   "execution_count": null,
   "metadata": {},
   "outputs": [],
   "source": [
    "# 复杂列表——用全部都切片创建副本\n",
    "my_foods = ['pizza','falafel','carrot cake']\n",
    "friend_foods = my_foods[:] # 用切片创建副本，两个是不一样的，后面可分别修改\n",
    "\n",
    "my_foods.append('cannoli')\n",
    "friend_foods.append('ice cream') #分别增加不同的喜欢食物\n",
    "\n",
    "print('My favorite foods are:')\n",
    "print(my_foods)\n",
    "\n",
    "print('\\nMy friend favorite foods are:')\n",
    "print(friend_foods)"
   ]
  },
  {
   "cell_type": "code",
   "execution_count": null,
   "metadata": {},
   "outputs": [],
   "source": [
    "my_foods = ['pizza','falafel','carrot cake']\n",
    "friend_foods = my_foods # 直接相等创建另一个，两个是相等的，会同步修改\n",
    "\n",
    "my_foods.append('cannoli')\n",
    "friend_foods.append('ice cream')\n",
    "\n",
    "print('My favorite foods are:')\n",
    "print(my_foods)\n",
    "\n",
    "print('\\nMy friend favorite foods are:')\n",
    "print(friend_foods)"
   ]
  },
  {
   "cell_type": "code",
   "execution_count": null,
   "metadata": {},
   "outputs": [],
   "source": [
    "# 练习4-10\n",
    "players = ['charles','martina','michael','florence','eli']\n",
    "print('The first three items in the list are:')\n",
    "print(players[:3])\n",
    "print('The items from the middle of the list are:')\n",
    "print(players[1:-1])\n",
    "print('The last three items in the list are:')\n",
    "print(players[-3:])\n",
    "\n"
   ]
  },
  {
   "cell_type": "code",
   "execution_count": null,
   "metadata": {},
   "outputs": [],
   "source": [
    "# 练习4-11\n",
    "pizzas = ['Camphor Duck Pizza','Assorted Pizza','Egg yolk shrimp pizza']\n",
    "friend_pizzas = pizzas[:]\n",
    "pizzas.append('Banana pizza')\n",
    "friend_pizzas.append('Apple pizza')\n",
    "print('My favorite pizzas are:')\n",
    "print(pizzas)\n",
    "print(\"My friend's favorite pizzas are:\")\n",
    "print(friend_pizzas)\n",
    "\n",
    "pizzas[3] == friend_pizzas[3]\n"
   ]
  },
  {
   "cell_type": "code",
   "execution_count": null,
   "metadata": {},
   "outputs": [],
   "source": [
    "# 练习4-12\n",
    "pizzas = ['Camphor Duck Pizza','Assorted Pizza','Egg yolk shrimp pizza']\n",
    "friend_pizzas = pizzas[:]\n",
    "pizzas.append('Banana pizza')\n",
    "friend_pizzas.append('Apple pizza')\n",
    "print('My favorite pizzas are:')\n",
    "for pizza in pizzas:\n",
    "    print(pizza)\n",
    "print(\"My friend's favorite pizzas are:\")\n",
    "for friend_pizza in friend_pizzas:\n",
    "    print(friend_pizza)"
   ]
  },
  {
   "cell_type": "markdown",
   "metadata": {},
   "source": [
    "## 元组——类似不可修改的列表\n",
    "\n",
    "列表是可以改变的\n",
    "\n",
    "元组相当于不可改变的列表\n",
    "\n",
    "元组用**圆括号**，列表用**方括号**"
   ]
  },
  {
   "cell_type": "code",
   "execution_count": null,
   "metadata": {},
   "outputs": [],
   "source": [
    "dimensions = (200,50,1235,56546,46,46,16,74,1,5)\n",
    "print(dimensions[0])\n",
    "print(dimensions[1])"
   ]
  },
  {
   "cell_type": "code",
   "execution_count": null,
   "metadata": {},
   "outputs": [],
   "source": [
    "dimensions[0] = 250 # 更改元组的值被认为是禁止的"
   ]
  },
  {
   "cell_type": "code",
   "execution_count": null,
   "metadata": {},
   "outputs": [],
   "source": [
    "dimensions = (200,50,1235,56546,46,46,16,74,1,5) #打印方法和列表类似，可使用for循环\n",
    "for dimension in dimensions:\n",
    "    print(dimension)"
   ]
  },
  {
   "cell_type": "code",
   "execution_count": null,
   "metadata": {},
   "outputs": [],
   "source": [
    "dimensions = (200,50)\n",
    "print('original dimensions:')\n",
    "for dimension in dimensions:\n",
    "    print(dimension)\n",
    "\n",
    "dimensions = (400,100) \n",
    "print('\\nmodifiedl dimensions:') # 重新赋值是允许的\n",
    "for dimension in dimensions:\n",
    "    print(dimension)\n"
   ]
  },
  {
   "cell_type": "code",
   "execution_count": null,
   "metadata": {},
   "outputs": [],
   "source": [
    "# 练习4-13\n",
    "foods = ('bread','banana','apple','milk','coffee')\n",
    "for food in foods:\n",
    "    print(food.title())\n",
    "\n",
    "#foods[0] = 'fried chicken'\n",
    "\n",
    "foods = ('fried chicken','pizza','apple','milk','coffee')\n",
    "for food in foods:\n",
    "    print(food.title())\n",
    "\n",
    "    \n"
   ]
  },
  {
   "cell_type": "markdown",
   "metadata": {},
   "source": [
    "### PEP 8\n",
    "\n",
    "https://www.python.org/dev/peps/pep-0008/\n",
    "\n",
    "缩进4个空格 = 一个tab\n",
    "行长 <= 79个字符\n",
    "注释 <= 72字符"
   ]
  }
 ],
 "metadata": {
  "kernelspec": {
   "display_name": "Python 3",
   "language": "python",
   "name": "python3"
  },
  "language_info": {
   "codemirror_mode": {
    "name": "ipython",
    "version": 3
   },
   "file_extension": ".py",
   "mimetype": "text/x-python",
   "name": "python",
   "nbconvert_exporter": "python",
   "pygments_lexer": "ipython3",
   "version": "3.7.0"
  }
 },
 "nbformat": 4,
 "nbformat_minor": 2
}
